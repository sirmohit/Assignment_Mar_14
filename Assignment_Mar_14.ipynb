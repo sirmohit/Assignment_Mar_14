{
 "cells": [
  {
   "cell_type": "markdown",
   "id": "9c9cec48",
   "metadata": {},
   "source": [
    "Q1. Write a Python function that takes in two arrays of data and calculates the F-value for a variance ratio\n",
    "test. The function should return the F-value and the corresponding p-value for the test."
   ]
  },
  {
   "cell_type": "code",
   "execution_count": 1,
   "id": "60d9e5f3",
   "metadata": {},
   "outputs": [
    {
     "name": "stdout",
     "output_type": "stream",
     "text": [
      "F-value: 5.0813\n",
      "P-value: 0.0542\n"
     ]
    }
   ],
   "source": [
    "import scipy.stats as stats\n",
    "\n",
    "def calculate_f_value_and_p_value(data1, data2):\n",
    "    \"\"\"\n",
    "    Calculate the F-value and p-value for a variance ratio test (ANOVA).\n",
    "\n",
    "    Parameters:\n",
    "    - data1: First array of data\n",
    "    - data2: Second array of data\n",
    "\n",
    "    Returns:\n",
    "    - f_value: F-value for the test\n",
    "    - p_value: p-value for the test\n",
    "    \"\"\"\n",
    "    # Perform the variance ratio test (ANOVA)\n",
    "    f_value, p_value = stats.f_oneway(data1, data2)\n",
    "\n",
    "    return f_value, p_value\n",
    "\n",
    "# Example usage:\n",
    "data1 = [23, 25, 28, 30, 32]\n",
    "data2 = [19, 20, 22, 25, 27]\n",
    "\n",
    "f_value, p_value = calculate_f_value_and_p_value(data1, data2)\n",
    "\n",
    "print(f\"F-value: {f_value:.4f}\")\n",
    "print(f\"P-value: {p_value:.4f}\")\n"
   ]
  },
  {
   "cell_type": "markdown",
   "id": "be10e059",
   "metadata": {},
   "source": [
    "Q2. Given a significance level of 0.05 and the degrees of freedom for the numerator and denominator of an\n",
    "F-distribution, write a Python function that returns the critical F-value for a two-tailed test."
   ]
  },
  {
   "cell_type": "code",
   "execution_count": 2,
   "id": "d2df7d38",
   "metadata": {},
   "outputs": [
    {
     "name": "stdout",
     "output_type": "stream",
     "text": [
      "Critical F-value: 3.8587\n"
     ]
    }
   ],
   "source": [
    "import scipy.stats as stats\n",
    "\n",
    "def get_critical_f_value(significance_level, df_num, df_denom):\n",
    "    \"\"\"\n",
    "    Get the critical F-value for a two-tailed test given a significance level\n",
    "    and degrees of freedom for the numerator and denominator.\n",
    "\n",
    "    Parameters:\n",
    "    - significance_level: Significance level (e.g., 0.05)\n",
    "    - df_num: Degrees of freedom for the numerator\n",
    "    - df_denom: Degrees of freedom for the denominator\n",
    "\n",
    "    Returns:\n",
    "    - critical_f_value: Critical F-value for the test\n",
    "    \"\"\"\n",
    "    alpha = significance_level\n",
    "\n",
    "    # Calculate the critical F-value\n",
    "    critical_f_value = stats.f.ppf(1 - alpha / 2, df_num, df_denom)\n",
    "\n",
    "    return critical_f_value\n",
    "\n",
    "# Example usage:\n",
    "significance_level = 0.05\n",
    "df_num = 3  # degrees of freedom for the numerator\n",
    "df_denom = 20  # degrees of freedom for the denominator\n",
    "\n",
    "critical_f_value = get_critical_f_value(significance_level, df_num, df_denom)\n",
    "\n",
    "print(f\"Critical F-value: {critical_f_value:.4f}\")\n"
   ]
  },
  {
   "cell_type": "markdown",
   "id": "be9579d1",
   "metadata": {},
   "source": [
    "Q3. Write a Python program that generates random samples from two normal distributions with known\n",
    "\n",
    "variances and uses an F-test to determine if the variances are equal. The program should output the F-\n",
    "value, degrees of freedom, and p-value for the test."
   ]
  },
  {
   "cell_type": "code",
   "execution_count": 3,
   "id": "748e53ed",
   "metadata": {},
   "outputs": [
    {
     "name": "stdout",
     "output_type": "stream",
     "text": [
      "F-value: 2.4082\n",
      "Degrees of Freedom (numerator): 29\n",
      "Degrees of Freedom (denominator): 29\n",
      "P-value: 0.0209\n"
     ]
    }
   ],
   "source": [
    "import numpy as np\n",
    "import scipy.stats as stats\n",
    "\n",
    "def perform_f_test(sample1, sample2):\n",
    "    \"\"\"\n",
    "    Perform an F-test to compare the variances of two samples.\n",
    "\n",
    "    Parameters:\n",
    "    - sample1: First sample (array-like)\n",
    "    - sample2: Second sample (array-like)\n",
    "\n",
    "    Returns:\n",
    "    - f_value: F-value for the test\n",
    "    - df_num: Degrees of freedom for the numerator\n",
    "    - df_denom: Degrees of freedom for the denominator\n",
    "    - p_value: p-value for the test\n",
    "    \"\"\"\n",
    "    # Calculate variances\n",
    "    var1 = np.var(sample1, ddof=1)  # degrees of freedom = 1 for sample variance\n",
    "    var2 = np.var(sample2, ddof=1)\n",
    "\n",
    "    # Perform F-test\n",
    "    f_value = var1 / var2 if var1 > var2 else var2 / var1\n",
    "    df_num = len(sample1) - 1\n",
    "    df_denom = len(sample2) - 1\n",
    "    p_value = 2 * min(stats.f.cdf(f_value, df_num, df_denom), 1 - stats.f.cdf(f_value, df_num, df_denom))\n",
    "\n",
    "    return f_value, df_num, df_denom, p_value\n",
    "\n",
    "# Generate random samples with known variances\n",
    "np.random.seed(42)  # for reproducibility\n",
    "sample1 = np.random.normal(loc=0, scale=1, size=30)\n",
    "sample2 = np.random.normal(loc=0, scale=1.5, size=30)\n",
    "\n",
    "# Perform F-test\n",
    "f_value, df_num, df_denom, p_value = perform_f_test(sample1, sample2)\n",
    "\n",
    "# Output the results\n",
    "print(f\"F-value: {f_value:.4f}\")\n",
    "print(f\"Degrees of Freedom (numerator): {df_num}\")\n",
    "print(f\"Degrees of Freedom (denominator): {df_denom}\")\n",
    "print(f\"P-value: {p_value:.4f}\")\n"
   ]
  },
  {
   "cell_type": "markdown",
   "id": "61fcb762",
   "metadata": {},
   "source": [
    "Q4.The variances of two populations are known to be 10 and 15. A sample of 12 observations is taken from\n",
    "each population. Conduct an F-test at the 5% significance level to determine if the variances are\n",
    "significantly different."
   ]
  },
  {
   "cell_type": "code",
   "execution_count": 4,
   "id": "b42ba1e1",
   "metadata": {},
   "outputs": [
    {
     "name": "stdout",
     "output_type": "stream",
     "text": [
      "F-value: 1.5000\n",
      "Critical F-value: 3.4737\n",
      "P-value: 0.5124\n",
      "Fail to reject the null hypothesis. There is no significant difference in variances.\n"
     ]
    }
   ],
   "source": [
    "import scipy.stats as stats\n",
    "\n",
    "# Given data\n",
    "variance1 = 10\n",
    "variance2 = 15\n",
    "sample_size = 12\n",
    "significance_level = 0.05\n",
    "\n",
    "# Degrees of freedom for the numerator and denominator\n",
    "df_num = sample_size - 1\n",
    "df_denom = sample_size - 1\n",
    "\n",
    "# Calculate the F-value\n",
    "f_value = variance1 / variance2 if variance1 > variance2 else variance2 / variance1\n",
    "\n",
    "# Calculate the critical F-value from the F-distribution\n",
    "critical_f_value = stats.f.ppf(1 - significance_level / 2, df_num, df_denom)\n",
    "\n",
    "# Calculate the p-value\n",
    "p_value = 2 * min(stats.f.cdf(f_value, df_num, df_denom), 1 - stats.f.cdf(f_value, df_num, df_denom))\n",
    "\n",
    "# Print the results\n",
    "print(f\"F-value: {f_value:.4f}\")\n",
    "print(f\"Critical F-value: {critical_f_value:.4f}\")\n",
    "print(f\"P-value: {p_value:.4f}\")\n",
    "\n",
    "# Compare with the critical F-value and make a decision\n",
    "if f_value > critical_f_value:\n",
    "    print(\"Reject the null hypothesis. The variances are significantly different.\")\n",
    "else:\n",
    "    print(\"Fail to reject the null hypothesis. There is no significant difference in variances.\")\n"
   ]
  },
  {
   "cell_type": "markdown",
   "id": "353073a9",
   "metadata": {},
   "source": [
    "Q5. A manufacturer claims that the variance of the diameter of a certain product is 0.005. A sample of 25\n",
    "products is taken, and the sample variance is found to be 0.006. Conduct an F-test at the 1% significance\n",
    "level to determine if the claim is justified."
   ]
  },
  {
   "cell_type": "code",
   "execution_count": 6,
   "id": "26d8d51d",
   "metadata": {},
   "outputs": [
    {
     "name": "stdout",
     "output_type": "stream",
     "text": [
      "F-value: 1.2000\n",
      "Critical F-values: 0.3371 and 2.9667\n",
      "P-value: 0.6587\n",
      "Fail to reject the null hypothesis. The claim is justified; there is no significant difference in variances.\n"
     ]
    }
   ],
   "source": [
    "import scipy.stats as stats\n",
    "\n",
    "# Given data\n",
    "claimed_variance = 0.005\n",
    "sample_variance = 0.006\n",
    "sample_size = 25\n",
    "significance_level = 0.01\n",
    "\n",
    "# Degrees of freedom for the numerator and denominator\n",
    "df_num = sample_size - 1\n",
    "df_denom = sample_size - 1\n",
    "\n",
    "# Calculate the F-value\n",
    "f_value = sample_variance / claimed_variance\n",
    "\n",
    "# Calculate the critical F-value from the F-distribution\n",
    "critical_f_value_lower = stats.f.ppf(significance_level / 2, df_num, df_denom)\n",
    "critical_f_value_upper = stats.f.ppf(1 - significance_level / 2, df_num, df_denom)\n",
    "\n",
    "# Calculate the p-value\n",
    "p_value = 2 * min(stats.f.cdf(f_value, df_num, df_denom), 1 - stats.f.cdf(f_value, df_num, df_denom))\n",
    "\n",
    "# Print the results\n",
    "print(f\"F-value: {f_value:.4f}\")\n",
    "print(f\"Critical F-values: {critical_f_value_lower:.4f} and {critical_f_value_upper:.4f}\")\n",
    "print(f\"P-value: {p_value:.4f}\")\n",
    "\n",
    "# Compare with the critical F-values and make a decision\n",
    "if f_value < critical_f_value_lower or f_value > critical_f_value_upper:\n",
    "    print(\"Reject the null hypothesis. The claim is not justified; the population variance is significantly different.\")\n",
    "else:\n",
    "    print(\"Fail to reject the null hypothesis. The claim is justified; there is no significant difference in variances.\")\n"
   ]
  },
  {
   "cell_type": "markdown",
   "id": "57665fbe",
   "metadata": {},
   "source": [
    "Q6. Write a Python function that takes in the degrees of freedom for the numerator and denominator of an\n",
    "F-distribution and calculates the mean and variance of the distribution. The function should return the\n",
    "mean and variance as a tuple."
   ]
  },
  {
   "cell_type": "code",
   "execution_count": 7,
   "id": "a286a6c4",
   "metadata": {},
   "outputs": [
    {
     "name": "stdout",
     "output_type": "stream",
     "text": [
      "Mean of F-distribution: 1.1111\n",
      "Variance of F-distribution: 1.0802\n"
     ]
    }
   ],
   "source": [
    "def f_distribution_mean_variance(df_num, df_denom):\n",
    "    \"\"\"\n",
    "    Calculate the mean and variance of an F-distribution.\n",
    "\n",
    "    Parameters:\n",
    "    - df_num: Degrees of freedom for the numerator\n",
    "    - df_denom: Degrees of freedom for the denominator\n",
    "\n",
    "    Returns:\n",
    "    - mean: Mean of the F-distribution\n",
    "    - variance: Variance of the F-distribution\n",
    "    \"\"\"\n",
    "    # Calculate mean\n",
    "    mean = df_denom / (df_denom - 2)\n",
    "\n",
    "    # Calculate variance\n",
    "    variance = (2 * (df_denom**2 * (df_num + df_denom - 2))) / (df_num * (df_denom - 2)**2 * (df_denom - 4))\n",
    "\n",
    "    return mean, variance\n",
    "\n",
    "# Example usage:\n",
    "df_num = 3\n",
    "df_denom = 20\n",
    "\n",
    "mean, variance = f_distribution_mean_variance(df_num, df_denom)\n",
    "\n",
    "print(f\"Mean of F-distribution: {mean:.4f}\")\n",
    "print(f\"Variance of F-distribution: {variance:.4f}\")\n"
   ]
  },
  {
   "cell_type": "markdown",
   "id": "569f9e34",
   "metadata": {},
   "source": [
    "Q7. A random sample of 10 measurements is taken from a normal population with unknown variance. The\n",
    "sample variance is found to be 25. Another random sample of 15 measurements is taken from another\n",
    "normal population with unknown variance, and the sample variance is found to be 20. Conduct an F-test\n",
    "at the 10% significance level to determine if the variances are significantly different."
   ]
  },
  {
   "cell_type": "code",
   "execution_count": 8,
   "id": "d7a1aa32",
   "metadata": {},
   "outputs": [
    {
     "name": "stdout",
     "output_type": "stream",
     "text": [
      "F-value: 1.2500\n",
      "Critical F-values: 0.3305 and 2.6458\n",
      "P-value: 0.6832\n",
      "Fail to reject the null hypothesis. There is no significant difference in variances.\n"
     ]
    }
   ],
   "source": [
    "import scipy.stats as stats\n",
    "\n",
    "# Given data\n",
    "sample_var1 = 25\n",
    "sample_size1 = 10\n",
    "sample_var2 = 20\n",
    "sample_size2 = 15\n",
    "significance_level = 0.10\n",
    "\n",
    "# Degrees of freedom for the numerator and denominator\n",
    "df_num = sample_size1 - 1\n",
    "df_denom = sample_size2 - 1\n",
    "\n",
    "# Calculate the F-value\n",
    "f_value = sample_var1 / sample_var2 if sample_var1 > sample_var2 else sample_var2 / sample_var1\n",
    "\n",
    "# Calculate the critical F-value from the F-distribution\n",
    "critical_f_value_lower = stats.f.ppf(significance_level / 2, df_num, df_denom)\n",
    "critical_f_value_upper = stats.f.ppf(1 - significance_level / 2, df_num, df_denom)\n",
    "\n",
    "# Calculate the p-value\n",
    "p_value = 2 * min(stats.f.cdf(f_value, df_num, df_denom), 1 - stats.f.cdf(f_value, df_num, df_denom))\n",
    "\n",
    "# Print the results\n",
    "print(f\"F-value: {f_value:.4f}\")\n",
    "print(f\"Critical F-values: {critical_f_value_lower:.4f} and {critical_f_value_upper:.4f}\")\n",
    "print(f\"P-value: {p_value:.4f}\")\n",
    "\n",
    "# Compare with the critical F-values and make a decision\n",
    "if f_value < critical_f_value_lower or f_value > critical_f_value_upper:\n",
    "    print(\"Reject the null hypothesis. The variances are significantly different.\")\n",
    "else:\n",
    "    print(\"Fail to reject the null hypothesis. There is no significant difference in variances.\")\n"
   ]
  },
  {
   "cell_type": "markdown",
   "id": "1c22a5a2",
   "metadata": {},
   "source": [
    "Q8. The following data represent the waiting times in minutes at two different restaurants on a Saturday\n",
    "night: Restaurant A: 24, 25, 28, 23, 22, 20, 27; Restaurant B: 31, 33, 35, 30, 32, 36. Conduct an F-test at the 5%\n",
    "significance level to determine if the variances are significantly different."
   ]
  },
  {
   "cell_type": "code",
   "execution_count": 9,
   "id": "17ae0e2b",
   "metadata": {},
   "outputs": [
    {
     "name": "stdout",
     "output_type": "stream",
     "text": [
      "F-value: 1.4552\n",
      "Critical F-values: 0.1670 and 6.9777\n",
      "P-value: 0.6975\n",
      "Fail to reject the null hypothesis. There is no significant difference in variances.\n"
     ]
    }
   ],
   "source": [
    "import scipy.stats as stats\n",
    "\n",
    "# Given data\n",
    "waiting_times_A = [24, 25, 28, 23, 22, 20, 27]\n",
    "waiting_times_B = [31, 33, 35, 30, 32, 36]\n",
    "significance_level = 0.05\n",
    "\n",
    "# Degrees of freedom for the numerator and denominator\n",
    "df_num = len(waiting_times_A) - 1\n",
    "df_denom = len(waiting_times_B) - 1\n",
    "\n",
    "# Calculate the F-value\n",
    "f_value = np.var(waiting_times_A, ddof=1) / np.var(waiting_times_B, ddof=1)\n",
    "\n",
    "# Calculate the critical F-value from the F-distribution\n",
    "critical_f_value_lower = stats.f.ppf(significance_level / 2, df_num, df_denom)\n",
    "critical_f_value_upper = stats.f.ppf(1 - significance_level / 2, df_num, df_denom)\n",
    "\n",
    "# Calculate the p-value\n",
    "p_value = 2 * min(stats.f.cdf(f_value, df_num, df_denom), 1 - stats.f.cdf(f_value, df_num, df_denom))\n",
    "\n",
    "# Print the results\n",
    "print(f\"F-value: {f_value:.4f}\")\n",
    "print(f\"Critical F-values: {critical_f_value_lower:.4f} and {critical_f_value_upper:.4f}\")\n",
    "print(f\"P-value: {p_value:.4f}\")\n",
    "\n",
    "# Compare with the critical F-values and make a decision\n",
    "if f_value < critical_f_value_lower or f_value > critical_f_value_upper:\n",
    "    print(\"Reject the null hypothesis. The variances are significantly different.\")\n",
    "else:\n",
    "    print(\"Fail to reject the null hypothesis. There is no significant difference in variances.\")\n"
   ]
  },
  {
   "cell_type": "markdown",
   "id": "c2d34f61",
   "metadata": {},
   "source": [
    "Q9. The following data represent the test scores of two groups of students: Group A: 80, 85, 90, 92, 87, 83;\n",
    "Group B: 75, 78, 82, 79, 81, 84. Conduct an F-test at the 1% significance level to determine if the variances\n",
    "are significantly different."
   ]
  },
  {
   "cell_type": "code",
   "execution_count": 12,
   "id": "4b9f5338",
   "metadata": {},
   "outputs": [
    {
     "name": "stdout",
     "output_type": "stream",
     "text": [
      "F-value: 1.9443\n",
      "Critical F-values: 0.0669 and 14.9396\n",
      "P-value: 0.4831\n",
      "Fail to reject the null hypothesis. There is no significant difference in variances.\n"
     ]
    }
   ],
   "source": [
    "import numpy as np\n",
    "import scipy.stats as stats\n",
    "\n",
    "# Given data\n",
    "group_A_scores = [80, 85, 90, 92, 87, 83]\n",
    "group_B_scores = [75, 78, 82, 79, 81, 84]\n",
    "significance_level = 0.01\n",
    "\n",
    "# Degrees of freedom for the numerator and denominator\n",
    "df_num = len(group_A_scores) - 1\n",
    "df_denom = len(group_B_scores) - 1\n",
    "\n",
    "# Calculate the F-value\n",
    "f_value = np.var(group_A_scores, ddof=1) / np.var(group_B_scores, ddof=1)\n",
    "\n",
    "# Calculate the critical F-value from the F-distribution\n",
    "critical_f_value_lower = stats.f.ppf(significance_level / 2, df_num, df_denom)\n",
    "critical_f_value_upper = stats.f.ppf(1 - significance_level / 2, df_num, df_denom)\n",
    "\n",
    "# Calculate the p-value\n",
    "p_value = 2 * min(stats.f.cdf(f_value, df_num, df_denom), 1 - stats.f.cdf(f_value, df_num, df_denom))\n",
    "\n",
    "# Print the results\n",
    "print(f\"F-value: {f_value:.4f}\")\n",
    "print(f\"Critical F-values: {critical_f_value_lower:.4f} and {critical_f_value_upper:.4f}\")\n",
    "print(f\"P-value: {p_value:.4f}\")\n",
    "\n",
    "# Compare with the critical F-values and make a decision\n",
    "if f_value < critical_f_value_lower or f_value > critical_f_value_upper:\n",
    "    print(\"Reject the null hypothesis. The variances are significantly different.\")\n",
    "else:\n",
    "    print(\"Fail to reject the null hypothesis. There is no significant difference in variances.\")\n"
   ]
  },
  {
   "cell_type": "code",
   "execution_count": null,
   "id": "a57b3a3e",
   "metadata": {},
   "outputs": [],
   "source": []
  }
 ],
 "metadata": {
  "kernelspec": {
   "display_name": "Python 3 (ipykernel)",
   "language": "python",
   "name": "python3"
  },
  "language_info": {
   "codemirror_mode": {
    "name": "ipython",
    "version": 3
   },
   "file_extension": ".py",
   "mimetype": "text/x-python",
   "name": "python",
   "nbconvert_exporter": "python",
   "pygments_lexer": "ipython3",
   "version": "3.9.13"
  }
 },
 "nbformat": 4,
 "nbformat_minor": 5
}
